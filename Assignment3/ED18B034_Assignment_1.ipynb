{
  "nbformat": 4,
  "nbformat_minor": 0,
  "metadata": {
    "colab": {
      "name": "EE4708_Assignment3.ipynb",
      "provenance": [],
      "authorship_tag": "ABX9TyMVSnXDfwA0pO+eJWWwi30B",
      "include_colab_link": true
    },
    "kernelspec": {
      "name": "python3",
      "display_name": "Python 3"
    },
    "language_info": {
      "name": "python"
    }
  },
  "cells": [
    {
      "cell_type": "markdown",
      "metadata": {
        "id": "view-in-github",
        "colab_type": "text"
      },
      "source": [
        "<a href=\"https://colab.research.google.com/github/Swathi1309/Data_Analytics/blob/main/Assignment3/ED18B034_Assignment_1.ipynb\" target=\"_parent\"><img src=\"https://colab.research.google.com/assets/colab-badge.svg\" alt=\"Open In Colab\"/></a>"
      ]
    },
    {
      "cell_type": "markdown",
      "metadata": {
        "id": "KmDlbPySQoId"
      },
      "source": [
        "# Predicting Income Class Using a Naive Bayes Classifier"
      ]
    },
    {
      "cell_type": "markdown",
      "metadata": {
        "id": "X0t66TPOQu9v"
      },
      "source": [
        "## Importing the required libraries and framework"
      ]
    },
    {
      "cell_type": "code",
      "metadata": {
        "id": "wNxyTjLFUEs5"
      },
      "source": [
        "import numpy as np\n",
        "import pandas as pd\n",
        "\n",
        "import matplotlib.pyplot as plt\n",
        "from matplotlib import rcParams\n",
        "import seaborn as sb\n",
        "\n",
        "from sklearn.naive_bayes import GaussianNB, CategoricalNB\n",
        "from sklearn.model_selection import train_test_split\n",
        "from sklearn.preprocessing import LabelEncoder, StandardScaler, QuantileTransformer\n",
        "from sklearn.metrics import accuracy_score, plot_confusion_matrix, f1_score, precision_score, recall_score, plot_roc_curve"
      ],
      "execution_count": null,
      "outputs": []
    },
    {
      "cell_type": "markdown",
      "metadata": {
        "id": "AeQ6QuHbQzZY"
      },
      "source": [
        "## Data loading and cleaning"
      ]
    },
    {
      "cell_type": "code",
      "metadata": {
        "id": "gdsYuwtuf2Dl"
      },
      "source": [
        "# Loading dataset\n",
        "data = pd.read_csv(\"adult.csv\", names=['age','work_class', 'fnlwgt', 'education','education_num','marital_status','occupation','relationship','race','sex','capital_gain','capital_loss','hours_per_week','native_country','income'])\n",
        "\n",
        "# Dropping rows with \"?\"\n",
        "index_names = data[data['work_class']==' ?'].index\n",
        "data.drop(index_names, inplace = True)\n",
        "index_names = data[data['occupation']==' ?'].index\n",
        "data.drop(index_names, inplace = True)\n",
        "index_names = data[data['native_country']==' ?'].index\n",
        "data.drop(index_names, inplace = True)\n",
        "\n",
        "# Analysing the distribution of the data\n",
        "print (data['income'].value_counts())\n",
        "\n",
        "# Changing the income labels\n",
        "data['income']=data['income'].map({' <=50K': 0, ' >50K': 1})"
      ],
      "execution_count": null,
      "outputs": []
    },
    {
      "cell_type": "markdown",
      "metadata": {
        "id": "382v-iU_Q3W8"
      },
      "source": [
        "## Data visualization and analysis"
      ]
    },
    {
      "cell_type": "code",
      "metadata": {
        "id": "_ehTmSnLnPIt"
      },
      "source": [
        "# Plotting the distribution of variables\n",
        "# Age\n",
        "sb.displot(data=data, x=\"age\", kde=True, hue=\"income\");\n",
        "\n",
        "# Income\n",
        "fig, ax = plt.subplots(figsize=(8,8))\n",
        "sb.histplot(data=data, x=\"work_class\", hue=\"income\", multiple='stack', ax=ax);\n",
        "plt.xticks(rotation=45);\n",
        "\n",
        "# Final Weight\n",
        "sb.displot(data=data, x=\"fnlwgt\", kde=True, hue=\"income\");\n",
        "\n",
        "# Education\n",
        "fig, ax = plt.subplots(figsize=(10,10))\n",
        "sb.histplot(data=data, x=\"education\", hue=\"income\", multiple='stack', ax=ax);\n",
        "plt.xticks(rotation=90);\n",
        "\n",
        "# Number of years of education\n",
        "sb.displot(data=data, x=\"education_num\", kde=True, hue=\"income\");\n",
        "\n",
        "# Marital status\n",
        "fig, ax = plt.subplots(figsize=(8,8))\n",
        "sb.histplot(data=data, x=\"marital_status\", hue=\"income\", multiple='stack', ax=ax);\n",
        "plt.xticks(rotation=90);\n",
        "\n",
        "# Occupation\n",
        "fig, ax = plt.subplots(figsize=(10,10))\n",
        "sb.histplot(data=data, x=\"occupation\", hue=\"income\", multiple='stack', ax=ax);\n",
        "plt.xticks(rotation=90);\n",
        "\n",
        "# Relationship\n",
        "fig, ax = plt.subplots(figsize=(10,10))\n",
        "sb.histplot(data=data, x=\"relationship\", hue=\"income\", multiple='stack', ax=ax);\n",
        "plt.xticks(rotation=90);\n",
        "\n",
        "# Race\n",
        "fig, ax = plt.subplots(figsize=(10,10))\n",
        "sb.histplot(data=data, x=\"race\", hue=\"income\", multiple=\"stack\", ax=ax);\n",
        "plt.xticks(rotation=90);\n",
        "\n",
        "# Sex\n",
        "fig, ax = plt.subplots(figsize=(5,5))\n",
        "sb.histplot(data=data, x=\"sex\", hue=\"income\", multiple='stack',ax=ax);\n",
        "plt.xticks(rotation=45);\n",
        "\n",
        "# Capital gain\n",
        "sb.displot(data=data, x=\"capital_gain\", hue=\"income\");\n",
        "\n",
        "# Capital loss\n",
        "sb.displot(data=data, x=\"capital_loss\", hue=\"income\");\n",
        "\n",
        "# Number of working hours per week\n",
        "sb.histplot(data=data, x=\"hours_per_week\", hue=\"income\", kde='true');\n",
        "\n",
        "# Native country\n",
        "fig, ax = plt.subplots(figsize=(8,8))\n",
        "sb.histplot(data=data, x=\"native_country\", hue=\"income\", multiple='stack', ax=ax);\n",
        "plt.xticks(rotation=90);"
      ],
      "execution_count": null,
      "outputs": []
    },
    {
      "cell_type": "code",
      "metadata": {
        "id": "-mCoMMQGyXgG"
      },
      "source": [
        "# Modifying native country labels\n",
        "countries = np.array(data['native_country'].unique())\n",
        "countries = np.delete(countries, 0)\n",
        "data['native_country'].replace(countries, 'Other', inplace = True)\n",
        "\n",
        "fig, ax = plt.subplots(figsize=(10,10))\n",
        "sb.histplot(data=data, x=\"native_country\", hue=\"income\", multiple='stack', ax=ax);\n",
        "plt.xticks(rotation=45);\n",
        "\n",
        "# Modifying race labels\n",
        "races = np.array(data['race'].unique())\n",
        "races = np.delete(races, [0,1])\n",
        "data['race'].replace(races, 'Other', inplace=True)\n",
        "\n",
        "fig, ax = plt.subplots(figsize=(10,10))\n",
        "sb.histplot(data=data, x=\"race\", hue=\"income\", multiple='stack', ax=ax);\n",
        "plt.xticks(rotation=90);"
      ],
      "execution_count": null,
      "outputs": []
    },
    {
      "cell_type": "code",
      "metadata": {
        "id": "LZlY15_ldnZ8"
      },
      "source": [
        "# Education vs number of years of education\n",
        "sb.catplot(data=data, x=\"education\", y=\"education_num\", kind=\"bar\", height=10, aspect=1, order=[' Preschool', ' 1st-4th',' 5th-6th', ' 7th-8th', ' 9th', ' 10th', ' 11th', ' 12th', ' HS-grad', ' Some-college', ' Assoc-voc',  ' Assoc-acdm', ' Bachelors', ' Masters', ' Prof-school',' Doctorate']);\n",
        "plt.xticks(rotation=90);\n",
        "\n",
        "# Age vs number of years of education\n",
        "fig, ax= plt.subplots(figsize=(10,10))\n",
        "sb.scatterplot(x=\"age\", y=\"education_num\", data=data, hue=\"income\", ax=ax);\n",
        "\n",
        "# Working class vs number of years of education\n",
        "sb.catplot(x=\"work_class\", y=\"education_num\", hue=\"income\", palette='pastel', kind=\"violin\", inner=\"stick\", split=True, data=data);\n",
        "plt.xticks(rotation='90');\n",
        "\n",
        "# Occupation vs number of years of education\n",
        "sb.catplot(x=\"occupation\", y=\"education_num\", hue=\"income\", palette='pastel', kind=\"violin\", inner=\"stick\", split=True, data=data);\n",
        "plt.xticks(rotation='90');"
      ],
      "execution_count": null,
      "outputs": []
    },
    {
      "cell_type": "code",
      "metadata": {
        "id": "DHYWlgnuDwuA"
      },
      "source": [
        "quantile = QuantileTransformer(output_distribution='normal')\n",
        "cap_gain = np.array(data['capital_gain']).reshape((len(data['capital_gain']), 1))\n",
        "data['capital_gain_gaussian'] = quantile.fit_transform(cap_gain)\n",
        "\n",
        "quantile = QuantileTransformer(output_distribution='normal')\n",
        "cap_loss = np.array(data['capital_loss']).reshape((len(data['capital_loss']), 1))\n",
        "data['capital_loss_gaussian'] = quantile.fit_transform(cap_loss)"
      ],
      "execution_count": null,
      "outputs": []
    },
    {
      "cell_type": "code",
      "metadata": {
        "id": "SU__o05RFLt8"
      },
      "source": [
        "# Capital gain\n",
        "sb.displot(data=data, x=\"capital_gain_gaussian\", hue=\"income\", kde=True);\n",
        "\n",
        "# Capital loss\n",
        "sb.displot(data=data, x=\"capital_loss_gaussian\", hue=\"income\", kde=True);"
      ],
      "execution_count": null,
      "outputs": []
    },
    {
      "cell_type": "code",
      "metadata": {
        "id": "VO05e3ZnkSCf"
      },
      "source": [
        "# Binning continuous variables\n",
        "data['age_bins'] = pd.cut(data['age'], bins=10)\n",
        "data['weight_bins'] = pd.cut(data['fnlwgt'], bins=10)\n",
        "data['hours_bins']=pd.cut(data['hours_per_week'], bins=10)\n",
        "data['education_num'] = pd.cut(data['education_num'], bins=10)\n",
        "data['cap_gain_bins'] = pd.cut(data['capital_gain_gaussian'], bins=10)\n",
        "data['cap_loss_bins'] = pd.cut(data['capital_loss_gaussian'], bins=10)\n",
        "\n",
        "categories = ['education','education_num', 'work_class','marital_status','occupation','relationship','race','sex', 'native_country', 'cap_gain_bins', 'cap_loss_bins', 'age_bins', 'weight_bins','hours_bins']\n",
        "for feature in categories:\n",
        "  encoder = LabelEncoder()\n",
        "  data[feature] = encoder.fit_transform(data[feature])"
      ],
      "execution_count": null,
      "outputs": []
    },
    {
      "cell_type": "code",
      "metadata": {
        "id": "C2h2IsQLrktm"
      },
      "source": [
        "scaler = StandardScaler()\n",
        "\n",
        "X_cat = data[['age_bins', 'work_class', 'weight_bins', 'education', 'education_num','marital_status','occupation','relationship','race','sex','hours_bins', 'cap_gain_bins', 'cap_loss_bins']]\n",
        "\n",
        "X_cont = data[['age','work_class', 'fnlwgt','education', 'education_num','marital_status','occupation','relationship','race','sex','hours_per_week', 'capital_gain_gaussian', 'capital_loss_gaussian']]\n",
        "X_cont = pd.DataFrame(scaler.fit_transform(X_cont), columns = ['age','work_class', 'fnlwgt', 'education', 'education_num','marital_status','occupation','relationship','race','sex','hours_per_week', 'capital_gain_gaussian', 'capital_loss_gaussian'])\n",
        "\n",
        "Y = data['income']"
      ],
      "execution_count": null,
      "outputs": []
    },
    {
      "cell_type": "markdown",
      "metadata": {
        "id": "lvYXhPNpQ-Cj"
      },
      "source": [
        "## Building models and comparing their performance"
      ]
    },
    {
      "cell_type": "code",
      "metadata": {
        "id": "y36oK2aR0rYA"
      },
      "source": [
        "def model_performance(model, X, Y):\n",
        "  Y_pred = model.predict(X)\n",
        "  print (\"Accuracy = \", accuracy_score(Y_pred, Y))\n",
        "  print (\"Precision = \", precision_score(Y_pred, Y))\n",
        "  print (\"Recall = \", recall_score(Y_pred, Y))\n",
        "  print (\"F1 Score = \", f1_score(Y_pred, Y))\n",
        "  fig,(ax1, ax2) = plt.subplots(nrows=2, ncols=1, figsize=(5,5))\n",
        "  ax1.grid(False)\n",
        "  plot_confusion_matrix(model, X, Y, ax=ax1);\n",
        "  plot_roc_curve(model, X, Y, ax=ax2)"
      ],
      "execution_count": null,
      "outputs": []
    },
    {
      "cell_type": "code",
      "metadata": {
        "colab": {
          "base_uri": "https://localhost:8080/",
          "height": 402
        },
        "id": "i5ZbrYVXzFAr",
        "outputId": "d0d99520-b3cd-4800-eadb-e2df8452239f"
      },
      "source": [
        "# Model 1 - Using categorical variables\n",
        "X_train_1, X_test_1, Y_train_1, Y_test_1 = train_test_split(X_cat, Y, test_size=0.3, random_state=3)\n",
        "model1 = CategoricalNB()\n",
        "model1.fit(X_train_1, Y_train_1)\n",
        "model_performance(model1, X_train_1, Y_train_1)"
      ],
      "execution_count": null,
      "outputs": [
        {
          "output_type": "stream",
          "name": "stdout",
          "text": [
            "Accuracy =  0.8125325628759532\n",
            "Precision =  0.753795886988276\n",
            "Recall =  0.5943324746173663\n",
            "F1 Score =  0.6646331130316895\n"
          ]
        },
        {
          "output_type": "display_data",
          "data": {
            "image/png": "[encoded data removed]",
            "text/plain": [
              "<Figure size 360x360 with 3 Axes>"
            ]
          },
          "metadata": {
            "needs_background": "light"
          }
        }
      ]
    },
    {
      "cell_type": "code",
      "metadata": {
        "colab": {
          "base_uri": "https://localhost:8080/",
          "height": 402
        },
        "id": "Y0Gu11Ae9nw0",
        "outputId": "1f8d95d9-44f4-426b-c55f-8614a370c131"
      },
      "source": [
        "# Model 2 - Using normalized categorical and continuous variables\n",
        "X_train_2, X_test_2, Y_train_2, Y_test_2 = train_test_split(X_cont, Y, test_size=0.3, random_state=0)\n",
        "model2 = GaussianNB()\n",
        "model2.fit(X_train_2, Y_train_2)\n",
        "model_performance(model2, X_train_2,Y_train_2)"
      ],
      "execution_count": null,
      "outputs": [
        {
          "output_type": "stream",
          "name": "stdout",
          "text": [
            "Accuracy =  0.8032491829678398\n",
            "Precision =  0.5791690599272449\n",
            "Recall =  0.607307769524192\n",
            "F1 Score =  0.592904743237946\n"
          ]
        },
        {
          "output_type": "display_data",
          "data": {
            "image/png": "[encoded data removed]",
            "text/plain": [
              "<Figure size 360x360 with 3 Axes>"
            ]
          },
          "metadata": {
            "needs_background": "light"
          }
        }
      ]
    },
    {
      "cell_type": "markdown",
      "metadata": {
        "id": "ofB8MDmsRCGg"
      },
      "source": [
        "## Testing the best model on test dataset"
      ]
    },
    {
      "cell_type": "code",
      "metadata": {
        "colab": {
          "base_uri": "https://localhost:8080/",
          "height": 402
        },
        "id": "hSQ7dErxLmL2",
        "outputId": "a43905ee-0c86-4eec-e829-2a1ee15da5fb"
      },
      "source": [
        "# Testing the categorical model on test data\n",
        "model_performance(model1, X_test_1, Y_test_1)"
      ],
      "execution_count": null,
      "outputs": [
        {
          "output_type": "stream",
          "name": "stdout",
          "text": [
            "Accuracy =  0.824842524035805\n",
            "Precision =  0.7770065075921909\n",
            "Recall =  0.6257861635220126\n",
            "F1 Score =  0.6932455970582543\n"
          ]
        },
        {
          "output_type": "display_data",
          "data": {
            "image/png": "[encoded data removed]",
            "text/plain": [
              "<Figure size 360x360 with 3 Axes>"
            ]
          },
          "metadata": {
            "needs_background": "light"
          }
        }
      ]
    }
  ]
}